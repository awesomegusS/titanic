{
 "cells": [
  {
   "cell_type": "code",
   "execution_count": 98,
   "id": "b0f33fdf",
   "metadata": {},
   "outputs": [],
   "source": [
    "import numpy as np\n",
    "import pandas as pd\n",
    "import matplotlib.pyplot as plt\n",
    "import seaborn as sns\n",
    "from sklearn.metrics import accuracy_score\n",
    "from sklearn import linear_model\n",
    "from sklearn.tree import DecisionTreeClassifier\n",
    "from sklearn.ensemble import RandomForestClassifier\n",
    "from sklearn.impute import SimpleImputer\n",
    "from sklearn.preprocessing import OneHotEncoder, StandardScaler, MinMaxScaler\n",
    "from sklearn.model_selection import cross_val_score, GridSearchCV\n",
    "from sklearn.pipeline import Pipeline\n",
    "from sklearn.compose import ColumnTransformer\n",
    "%matplotlib inline"
   ]
  },
  {
   "cell_type": "code",
   "execution_count": 2,
   "id": "7e67c1a5",
   "metadata": {},
   "outputs": [],
   "source": [
    "data = pd.read_csv('./train.csv')\n",
    "X_test = pd.read_csv('./test.csv')"
   ]
  },
  {
   "cell_type": "markdown",
   "id": "19713a1d",
   "metadata": {},
   "source": [
    "### Exploratory Data Analysis"
   ]
  },
  {
   "cell_type": "code",
   "execution_count": 3,
   "id": "a69cec7a",
   "metadata": {
    "scrolled": true
   },
   "outputs": [
    {
     "data": {
      "text/html": [
       "<div>\n",
       "<style scoped>\n",
       "    .dataframe tbody tr th:only-of-type {\n",
       "        vertical-align: middle;\n",
       "    }\n",
       "\n",
       "    .dataframe tbody tr th {\n",
       "        vertical-align: top;\n",
       "    }\n",
       "\n",
       "    .dataframe thead th {\n",
       "        text-align: right;\n",
       "    }\n",
       "</style>\n",
       "<table border=\"1\" class=\"dataframe\">\n",
       "  <thead>\n",
       "    <tr style=\"text-align: right;\">\n",
       "      <th></th>\n",
       "      <th>PassengerId</th>\n",
       "      <th>Survived</th>\n",
       "      <th>Pclass</th>\n",
       "      <th>Name</th>\n",
       "      <th>Sex</th>\n",
       "      <th>Age</th>\n",
       "      <th>SibSp</th>\n",
       "      <th>Parch</th>\n",
       "      <th>Ticket</th>\n",
       "      <th>Fare</th>\n",
       "      <th>Cabin</th>\n",
       "      <th>Embarked</th>\n",
       "    </tr>\n",
       "  </thead>\n",
       "  <tbody>\n",
       "    <tr>\n",
       "      <th>0</th>\n",
       "      <td>1</td>\n",
       "      <td>0</td>\n",
       "      <td>3</td>\n",
       "      <td>Braund, Mr. Owen Harris</td>\n",
       "      <td>male</td>\n",
       "      <td>22.0</td>\n",
       "      <td>1</td>\n",
       "      <td>0</td>\n",
       "      <td>A/5 21171</td>\n",
       "      <td>7.2500</td>\n",
       "      <td>NaN</td>\n",
       "      <td>S</td>\n",
       "    </tr>\n",
       "    <tr>\n",
       "      <th>1</th>\n",
       "      <td>2</td>\n",
       "      <td>1</td>\n",
       "      <td>1</td>\n",
       "      <td>Cumings, Mrs. John Bradley (Florence Briggs Th...</td>\n",
       "      <td>female</td>\n",
       "      <td>38.0</td>\n",
       "      <td>1</td>\n",
       "      <td>0</td>\n",
       "      <td>PC 17599</td>\n",
       "      <td>71.2833</td>\n",
       "      <td>C85</td>\n",
       "      <td>C</td>\n",
       "    </tr>\n",
       "    <tr>\n",
       "      <th>2</th>\n",
       "      <td>3</td>\n",
       "      <td>1</td>\n",
       "      <td>3</td>\n",
       "      <td>Heikkinen, Miss. Laina</td>\n",
       "      <td>female</td>\n",
       "      <td>26.0</td>\n",
       "      <td>0</td>\n",
       "      <td>0</td>\n",
       "      <td>STON/O2. 3101282</td>\n",
       "      <td>7.9250</td>\n",
       "      <td>NaN</td>\n",
       "      <td>S</td>\n",
       "    </tr>\n",
       "    <tr>\n",
       "      <th>3</th>\n",
       "      <td>4</td>\n",
       "      <td>1</td>\n",
       "      <td>1</td>\n",
       "      <td>Futrelle, Mrs. Jacques Heath (Lily May Peel)</td>\n",
       "      <td>female</td>\n",
       "      <td>35.0</td>\n",
       "      <td>1</td>\n",
       "      <td>0</td>\n",
       "      <td>113803</td>\n",
       "      <td>53.1000</td>\n",
       "      <td>C123</td>\n",
       "      <td>S</td>\n",
       "    </tr>\n",
       "    <tr>\n",
       "      <th>4</th>\n",
       "      <td>5</td>\n",
       "      <td>0</td>\n",
       "      <td>3</td>\n",
       "      <td>Allen, Mr. William Henry</td>\n",
       "      <td>male</td>\n",
       "      <td>35.0</td>\n",
       "      <td>0</td>\n",
       "      <td>0</td>\n",
       "      <td>373450</td>\n",
       "      <td>8.0500</td>\n",
       "      <td>NaN</td>\n",
       "      <td>S</td>\n",
       "    </tr>\n",
       "    <tr>\n",
       "      <th>5</th>\n",
       "      <td>6</td>\n",
       "      <td>0</td>\n",
       "      <td>3</td>\n",
       "      <td>Moran, Mr. James</td>\n",
       "      <td>male</td>\n",
       "      <td>NaN</td>\n",
       "      <td>0</td>\n",
       "      <td>0</td>\n",
       "      <td>330877</td>\n",
       "      <td>8.4583</td>\n",
       "      <td>NaN</td>\n",
       "      <td>Q</td>\n",
       "    </tr>\n",
       "    <tr>\n",
       "      <th>6</th>\n",
       "      <td>7</td>\n",
       "      <td>0</td>\n",
       "      <td>1</td>\n",
       "      <td>McCarthy, Mr. Timothy J</td>\n",
       "      <td>male</td>\n",
       "      <td>54.0</td>\n",
       "      <td>0</td>\n",
       "      <td>0</td>\n",
       "      <td>17463</td>\n",
       "      <td>51.8625</td>\n",
       "      <td>E46</td>\n",
       "      <td>S</td>\n",
       "    </tr>\n",
       "    <tr>\n",
       "      <th>7</th>\n",
       "      <td>8</td>\n",
       "      <td>0</td>\n",
       "      <td>3</td>\n",
       "      <td>Palsson, Master. Gosta Leonard</td>\n",
       "      <td>male</td>\n",
       "      <td>2.0</td>\n",
       "      <td>3</td>\n",
       "      <td>1</td>\n",
       "      <td>349909</td>\n",
       "      <td>21.0750</td>\n",
       "      <td>NaN</td>\n",
       "      <td>S</td>\n",
       "    </tr>\n",
       "    <tr>\n",
       "      <th>8</th>\n",
       "      <td>9</td>\n",
       "      <td>1</td>\n",
       "      <td>3</td>\n",
       "      <td>Johnson, Mrs. Oscar W (Elisabeth Vilhelmina Berg)</td>\n",
       "      <td>female</td>\n",
       "      <td>27.0</td>\n",
       "      <td>0</td>\n",
       "      <td>2</td>\n",
       "      <td>347742</td>\n",
       "      <td>11.1333</td>\n",
       "      <td>NaN</td>\n",
       "      <td>S</td>\n",
       "    </tr>\n",
       "    <tr>\n",
       "      <th>9</th>\n",
       "      <td>10</td>\n",
       "      <td>1</td>\n",
       "      <td>2</td>\n",
       "      <td>Nasser, Mrs. Nicholas (Adele Achem)</td>\n",
       "      <td>female</td>\n",
       "      <td>14.0</td>\n",
       "      <td>1</td>\n",
       "      <td>0</td>\n",
       "      <td>237736</td>\n",
       "      <td>30.0708</td>\n",
       "      <td>NaN</td>\n",
       "      <td>C</td>\n",
       "    </tr>\n",
       "  </tbody>\n",
       "</table>\n",
       "</div>"
      ],
      "text/plain": [
       "   PassengerId  Survived  Pclass  \\\n",
       "0            1         0       3   \n",
       "1            2         1       1   \n",
       "2            3         1       3   \n",
       "3            4         1       1   \n",
       "4            5         0       3   \n",
       "5            6         0       3   \n",
       "6            7         0       1   \n",
       "7            8         0       3   \n",
       "8            9         1       3   \n",
       "9           10         1       2   \n",
       "\n",
       "                                                Name     Sex   Age  SibSp  \\\n",
       "0                            Braund, Mr. Owen Harris    male  22.0      1   \n",
       "1  Cumings, Mrs. John Bradley (Florence Briggs Th...  female  38.0      1   \n",
       "2                             Heikkinen, Miss. Laina  female  26.0      0   \n",
       "3       Futrelle, Mrs. Jacques Heath (Lily May Peel)  female  35.0      1   \n",
       "4                           Allen, Mr. William Henry    male  35.0      0   \n",
       "5                                   Moran, Mr. James    male   NaN      0   \n",
       "6                            McCarthy, Mr. Timothy J    male  54.0      0   \n",
       "7                     Palsson, Master. Gosta Leonard    male   2.0      3   \n",
       "8  Johnson, Mrs. Oscar W (Elisabeth Vilhelmina Berg)  female  27.0      0   \n",
       "9                Nasser, Mrs. Nicholas (Adele Achem)  female  14.0      1   \n",
       "\n",
       "   Parch            Ticket     Fare Cabin Embarked  \n",
       "0      0         A/5 21171   7.2500   NaN        S  \n",
       "1      0          PC 17599  71.2833   C85        C  \n",
       "2      0  STON/O2. 3101282   7.9250   NaN        S  \n",
       "3      0            113803  53.1000  C123        S  \n",
       "4      0            373450   8.0500   NaN        S  \n",
       "5      0            330877   8.4583   NaN        Q  \n",
       "6      0             17463  51.8625   E46        S  \n",
       "7      1            349909  21.0750   NaN        S  \n",
       "8      2            347742  11.1333   NaN        S  \n",
       "9      0            237736  30.0708   NaN        C  "
      ]
     },
     "execution_count": 3,
     "metadata": {},
     "output_type": "execute_result"
    }
   ],
   "source": [
    "data.head(10)"
   ]
  },
  {
   "cell_type": "code",
   "execution_count": 4,
   "id": "bef6ede7",
   "metadata": {},
   "outputs": [
    {
     "name": "stdout",
     "output_type": "stream",
     "text": [
      "<class 'pandas.core.frame.DataFrame'>\n",
      "RangeIndex: 891 entries, 0 to 890\n",
      "Data columns (total 12 columns):\n",
      " #   Column       Non-Null Count  Dtype  \n",
      "---  ------       --------------  -----  \n",
      " 0   PassengerId  891 non-null    int64  \n",
      " 1   Survived     891 non-null    int64  \n",
      " 2   Pclass       891 non-null    int64  \n",
      " 3   Name         891 non-null    object \n",
      " 4   Sex          891 non-null    object \n",
      " 5   Age          714 non-null    float64\n",
      " 6   SibSp        891 non-null    int64  \n",
      " 7   Parch        891 non-null    int64  \n",
      " 8   Ticket       891 non-null    object \n",
      " 9   Fare         891 non-null    float64\n",
      " 10  Cabin        204 non-null    object \n",
      " 11  Embarked     889 non-null    object \n",
      "dtypes: float64(2), int64(5), object(5)\n",
      "memory usage: 83.7+ KB\n"
     ]
    }
   ],
   "source": [
    "data.info()"
   ]
  },
  {
   "cell_type": "code",
   "execution_count": 5,
   "id": "a0bb3ca9",
   "metadata": {},
   "outputs": [
    {
     "data": {
      "text/html": [
       "<div>\n",
       "<style scoped>\n",
       "    .dataframe tbody tr th:only-of-type {\n",
       "        vertical-align: middle;\n",
       "    }\n",
       "\n",
       "    .dataframe tbody tr th {\n",
       "        vertical-align: top;\n",
       "    }\n",
       "\n",
       "    .dataframe thead th {\n",
       "        text-align: right;\n",
       "    }\n",
       "</style>\n",
       "<table border=\"1\" class=\"dataframe\">\n",
       "  <thead>\n",
       "    <tr style=\"text-align: right;\">\n",
       "      <th></th>\n",
       "      <th>PassengerId</th>\n",
       "      <th>Survived</th>\n",
       "      <th>Pclass</th>\n",
       "      <th>Age</th>\n",
       "      <th>SibSp</th>\n",
       "      <th>Parch</th>\n",
       "      <th>Fare</th>\n",
       "    </tr>\n",
       "  </thead>\n",
       "  <tbody>\n",
       "    <tr>\n",
       "      <th>count</th>\n",
       "      <td>891.000000</td>\n",
       "      <td>891.000000</td>\n",
       "      <td>891.000000</td>\n",
       "      <td>714.000000</td>\n",
       "      <td>891.000000</td>\n",
       "      <td>891.000000</td>\n",
       "      <td>891.000000</td>\n",
       "    </tr>\n",
       "    <tr>\n",
       "      <th>mean</th>\n",
       "      <td>446.000000</td>\n",
       "      <td>0.383838</td>\n",
       "      <td>2.308642</td>\n",
       "      <td>29.699118</td>\n",
       "      <td>0.523008</td>\n",
       "      <td>0.381594</td>\n",
       "      <td>32.204208</td>\n",
       "    </tr>\n",
       "    <tr>\n",
       "      <th>std</th>\n",
       "      <td>257.353842</td>\n",
       "      <td>0.486592</td>\n",
       "      <td>0.836071</td>\n",
       "      <td>14.526497</td>\n",
       "      <td>1.102743</td>\n",
       "      <td>0.806057</td>\n",
       "      <td>49.693429</td>\n",
       "    </tr>\n",
       "    <tr>\n",
       "      <th>min</th>\n",
       "      <td>1.000000</td>\n",
       "      <td>0.000000</td>\n",
       "      <td>1.000000</td>\n",
       "      <td>0.420000</td>\n",
       "      <td>0.000000</td>\n",
       "      <td>0.000000</td>\n",
       "      <td>0.000000</td>\n",
       "    </tr>\n",
       "    <tr>\n",
       "      <th>25%</th>\n",
       "      <td>223.500000</td>\n",
       "      <td>0.000000</td>\n",
       "      <td>2.000000</td>\n",
       "      <td>20.125000</td>\n",
       "      <td>0.000000</td>\n",
       "      <td>0.000000</td>\n",
       "      <td>7.910400</td>\n",
       "    </tr>\n",
       "    <tr>\n",
       "      <th>50%</th>\n",
       "      <td>446.000000</td>\n",
       "      <td>0.000000</td>\n",
       "      <td>3.000000</td>\n",
       "      <td>28.000000</td>\n",
       "      <td>0.000000</td>\n",
       "      <td>0.000000</td>\n",
       "      <td>14.454200</td>\n",
       "    </tr>\n",
       "    <tr>\n",
       "      <th>75%</th>\n",
       "      <td>668.500000</td>\n",
       "      <td>1.000000</td>\n",
       "      <td>3.000000</td>\n",
       "      <td>38.000000</td>\n",
       "      <td>1.000000</td>\n",
       "      <td>0.000000</td>\n",
       "      <td>31.000000</td>\n",
       "    </tr>\n",
       "    <tr>\n",
       "      <th>max</th>\n",
       "      <td>891.000000</td>\n",
       "      <td>1.000000</td>\n",
       "      <td>3.000000</td>\n",
       "      <td>80.000000</td>\n",
       "      <td>8.000000</td>\n",
       "      <td>6.000000</td>\n",
       "      <td>512.329200</td>\n",
       "    </tr>\n",
       "  </tbody>\n",
       "</table>\n",
       "</div>"
      ],
      "text/plain": [
       "       PassengerId    Survived      Pclass         Age       SibSp  \\\n",
       "count   891.000000  891.000000  891.000000  714.000000  891.000000   \n",
       "mean    446.000000    0.383838    2.308642   29.699118    0.523008   \n",
       "std     257.353842    0.486592    0.836071   14.526497    1.102743   \n",
       "min       1.000000    0.000000    1.000000    0.420000    0.000000   \n",
       "25%     223.500000    0.000000    2.000000   20.125000    0.000000   \n",
       "50%     446.000000    0.000000    3.000000   28.000000    0.000000   \n",
       "75%     668.500000    1.000000    3.000000   38.000000    1.000000   \n",
       "max     891.000000    1.000000    3.000000   80.000000    8.000000   \n",
       "\n",
       "            Parch        Fare  \n",
       "count  891.000000  891.000000  \n",
       "mean     0.381594   32.204208  \n",
       "std      0.806057   49.693429  \n",
       "min      0.000000    0.000000  \n",
       "25%      0.000000    7.910400  \n",
       "50%      0.000000   14.454200  \n",
       "75%      0.000000   31.000000  \n",
       "max      6.000000  512.329200  "
      ]
     },
     "execution_count": 5,
     "metadata": {},
     "output_type": "execute_result"
    }
   ],
   "source": [
    "data.describe()"
   ]
  },
  {
   "cell_type": "markdown",
   "id": "459647d4",
   "metadata": {},
   "source": [
    "### Visualizaing the data"
   ]
  },
  {
   "cell_type": "code",
   "execution_count": 6,
   "id": "73f233fa",
   "metadata": {
    "scrolled": false
   },
   "outputs": [
    {
     "data": {
      "text/plain": [
       "array([[<AxesSubplot:title={'center':'PassengerId'}>,\n",
       "        <AxesSubplot:title={'center':'Survived'}>,\n",
       "        <AxesSubplot:title={'center':'Pclass'}>],\n",
       "       [<AxesSubplot:title={'center':'Age'}>,\n",
       "        <AxesSubplot:title={'center':'SibSp'}>,\n",
       "        <AxesSubplot:title={'center':'Parch'}>],\n",
       "       [<AxesSubplot:title={'center':'Fare'}>, <AxesSubplot:>,\n",
       "        <AxesSubplot:>]], dtype=object)"
      ]
     },
     "execution_count": 6,
     "metadata": {},
     "output_type": "execute_result"
    },
    {
     "data": {
      "image/png": "[encoded data removed]",
      "text/plain": [
       "<Figure size 1440x1080 with 9 Axes>"
      ]
     },
     "metadata": {
      "needs_background": "light"
     },
     "output_type": "display_data"
    }
   ],
   "source": [
    "data.hist(figsize=(20, 15), bins=10)"
   ]
  },
  {
   "cell_type": "code",
   "execution_count": 13,
   "id": "8299ad2e",
   "metadata": {},
   "outputs": [],
   "source": [
    "X_train = data.copy().sample(frac=1) # randomly shuffled data"
   ]
  },
  {
   "cell_type": "code",
   "execution_count": 18,
   "id": "69c9b8e1",
   "metadata": {},
   "outputs": [],
   "source": [
    "X_train_num = X_train[['Age', 'Fare']] # numerical attribs\n",
    "X_train_cat = X_train.drop(['Survived', 'Age', 'Name', 'Cabin',  'PassengerId', 'Ticket', 'Fare'], axis=1) # categorical attribs\n",
    "y_train = X_train['Survived'].copy()"
   ]
  },
  {
   "cell_type": "code",
   "execution_count": 16,
   "id": "c02cb899",
   "metadata": {
    "collapsed": true
   },
   "outputs": [
    {
     "name": "stdout",
     "output_type": "stream",
     "text": [
      "categorical attr:\n",
      "     Pclass     Sex  SibSp  Parch Embarked\n",
      "411       3    male      0      0        Q\n",
      "418       2    male      0      0        S\n",
      "257       1  female      0      0        S\n",
      "480       3    male      5      2        S\n",
      "544       1    male      1      0        C\n",
      "..      ...     ...    ...    ...      ...\n",
      "706       2  female      0      0        S\n",
      "390       1    male      1      2        S\n",
      "100       3  female      0      0        S\n",
      "806       1    male      0      0        S\n",
      "245       1    male      2      0        Q\n",
      "\n",
      "[891 rows x 5 columns]\n",
      "\n",
      "numerical attr:\n",
      "      Age      Fare\n",
      "411   NaN    6.8583\n",
      "418  30.0   13.0000\n",
      "257  30.0   86.5000\n",
      "480   9.0   46.9000\n",
      "544  50.0  106.4250\n",
      "..    ...       ...\n",
      "706  45.0   13.5000\n",
      "390  36.0  120.0000\n",
      "100  28.0    7.8958\n",
      "806  39.0    0.0000\n",
      "245  44.0   90.0000\n",
      "\n",
      "[891 rows x 2 columns]\n"
     ]
    }
   ],
   "source": [
    "print('categorical attr:\\n{}\\n\\nnumerical attr:\\n{}'.format(X_train_cat, X_train_num))"
   ]
  },
  {
   "cell_type": "markdown",
   "id": "0c75944c",
   "metadata": {},
   "source": [
    "##### Looking for correlations "
   ]
  },
  {
   "cell_type": "code",
   "execution_count": 11,
   "id": "71b87712",
   "metadata": {},
   "outputs": [],
   "source": [
    "corr_mat = data.corr()"
   ]
  },
  {
   "cell_type": "code",
   "execution_count": 12,
   "id": "88e40076",
   "metadata": {},
   "outputs": [
    {
     "data": {
      "text/plain": [
       "Survived       1.000000\n",
       "Fare           0.257307\n",
       "Parch          0.081629\n",
       "PassengerId   -0.005007\n",
       "SibSp         -0.035322\n",
       "Age           -0.077221\n",
       "Pclass        -0.338481\n",
       "Name: Survived, dtype: float64"
      ]
     },
     "execution_count": 12,
     "metadata": {},
     "output_type": "execute_result"
    }
   ],
   "source": [
    "corr_mat['Survived'].sort_values(ascending=False)"
   ]
  },
  {
   "cell_type": "code",
   "execution_count": 22,
   "id": "a7914aca",
   "metadata": {},
   "outputs": [
    {
     "data": {
      "text/plain": [
       "<seaborn.axisgrid.PairGrid at 0x7fd2e9da7d00>"
      ]
     },
     "execution_count": 22,
     "metadata": {},
     "output_type": "execute_result"
    },
    {
     "data": {
      "image/png": "[encoded data removed]",
      "text/plain": [
       "<Figure size 540x540 with 12 Axes>"
      ]
     },
     "metadata": {
      "needs_background": "light"
     },
     "output_type": "display_data"
    }
   ],
   "source": [
    "attri = list(X_train_num) + ['Survived']\n",
    "sns.pairplot(X_train[attri])"
   ]
  },
  {
   "cell_type": "markdown",
   "id": "a3d200b0",
   "metadata": {},
   "source": [
    "### Data cleaning & preparation"
   ]
  },
  {
   "cell_type": "markdown",
   "id": "677932f9",
   "metadata": {},
   "source": [
    "######  Numerical attirbs"
   ]
  },
  {
   "cell_type": "code",
   "execution_count": 24,
   "id": "ae9cadb5",
   "metadata": {},
   "outputs": [],
   "source": [
    "imp_most_freq = SimpleImputer(strategy='most_frequent')"
   ]
  },
  {
   "cell_type": "code",
   "execution_count": 25,
   "id": "ea39aa4b",
   "metadata": {},
   "outputs": [
    {
     "data": {
      "text/plain": [
       "SimpleImputer(strategy='most_frequent')"
      ]
     },
     "execution_count": 25,
     "metadata": {},
     "output_type": "execute_result"
    }
   ],
   "source": [
    "imp_most_freq.fit(X_train_num)"
   ]
  },
  {
   "cell_type": "code",
   "execution_count": 26,
   "id": "850d9f98",
   "metadata": {},
   "outputs": [
    {
     "data": {
      "text/plain": [
       "array([24.  ,  8.05])"
      ]
     },
     "execution_count": 26,
     "metadata": {},
     "output_type": "execute_result"
    }
   ],
   "source": [
    "imp_most_freq.statistics_"
   ]
  },
  {
   "cell_type": "code",
   "execution_count": 48,
   "id": "17203319",
   "metadata": {},
   "outputs": [],
   "source": [
    "X_train_num_transformed = imp_most_freq.transform(X_train_num)"
   ]
  },
  {
   "cell_type": "markdown",
   "id": "bfc524d8",
   "metadata": {},
   "source": [
    "###### Feature scaling"
   ]
  },
  {
   "cell_type": "code",
   "execution_count": 50,
   "id": "da15f2c9",
   "metadata": {},
   "outputs": [],
   "source": [
    "X_train_num_transformed = MinMaxScaler().fit_transform(X_train_num_transformed)"
   ]
  },
  {
   "cell_type": "code",
   "execution_count": 53,
   "id": "edf43992",
   "metadata": {},
   "outputs": [
    {
     "data": {
      "text/plain": [
       "array([[0.2963056 , 0.01338651],\n",
       "       [0.37170143, 0.02537431],\n",
       "       [0.37170143, 0.16883676],\n",
       "       ...,\n",
       "       [0.34656949, 0.01541158],\n",
       "       [0.48479517, 0.        ],\n",
       "       [0.54762503, 0.1756683 ]])"
      ]
     },
     "execution_count": 53,
     "metadata": {},
     "output_type": "execute_result"
    }
   ],
   "source": [
    "X_train_num_transformed"
   ]
  },
  {
   "cell_type": "markdown",
   "id": "1672c8eb",
   "metadata": {},
   "source": [
    "######  Categorical attribs"
   ]
  },
  {
   "cell_type": "code",
   "execution_count": 37,
   "id": "70b0eac9",
   "metadata": {},
   "outputs": [],
   "source": [
    "# handle missing value \n",
    "X_train_cat['Embarked'] = SimpleImputer(strategy='most_frequent').fit_transform(X_train_cat[['Embarked']])"
   ]
  },
  {
   "cell_type": "code",
   "execution_count": 38,
   "id": "ed99cd4d",
   "metadata": {},
   "outputs": [],
   "source": [
    "cat_encoder = OneHotEncoder()\n",
    "X_train_cat_transformed = cat_encoder.fit_transform(X_train_cat)"
   ]
  },
  {
   "cell_type": "code",
   "execution_count": 43,
   "id": "f762b477",
   "metadata": {},
   "outputs": [
    {
     "name": "stdout",
     "output_type": "stream",
     "text": [
      "(891, 22)\n",
      "\n",
      "[[0. 0. 1. ... 0. 1. 0.]\n",
      " [0. 1. 0. ... 0. 0. 1.]\n",
      " [1. 0. 0. ... 0. 0. 1.]\n",
      " ...\n",
      " [0. 0. 1. ... 0. 0. 1.]\n",
      " [1. 0. 0. ... 0. 0. 1.]\n",
      " [1. 0. 0. ... 0. 1. 0.]]\n"
     ]
    }
   ],
   "source": [
    "print('{}\\n\\n{}'.format(X_train_cat_transformed.toarray().shape, X_train_cat_transformed.toarray()))"
   ]
  },
  {
   "cell_type": "markdown",
   "id": "253131ed",
   "metadata": {},
   "source": [
    "###### categories\n"
   ]
  },
  {
   "cell_type": "code",
   "execution_count": 40,
   "id": "fbcc0e28",
   "metadata": {
    "scrolled": true
   },
   "outputs": [
    {
     "data": {
      "text/plain": [
       "[array([1, 2, 3]),\n",
       " array(['female', 'male'], dtype=object),\n",
       " array([0, 1, 2, 3, 4, 5, 8]),\n",
       " array([0, 1, 2, 3, 4, 5, 6]),\n",
       " array(['C', 'Q', 'S'], dtype=object)]"
      ]
     },
     "execution_count": 40,
     "metadata": {},
     "output_type": "execute_result"
    }
   ],
   "source": [
    "cat_encoder.categories_"
   ]
  },
  {
   "cell_type": "markdown",
   "id": "05319474",
   "metadata": {},
   "source": [
    "### Transformation Pipeline"
   ]
  },
  {
   "cell_type": "code",
   "execution_count": 66,
   "id": "10926609",
   "metadata": {},
   "outputs": [
    {
     "name": "stdout",
     "output_type": "stream",
     "text": [
      "[[-0.3461881  -0.51033193]\n",
      " [ 0.1086274  -0.38667072]\n",
      " [ 0.1086274   1.09322879]\n",
      " ...\n",
      " [-0.04297777 -0.48944219]\n",
      " [ 0.79085065 -0.64842165]\n",
      " [ 1.16986357  1.16370019]]\n"
     ]
    }
   ],
   "source": [
    "num_pipeline = Pipeline([\n",
    "    ('imputer_num', SimpleImputer(strategy='most_frequent')),\n",
    "    ('std_scaler', StandardScaler())\n",
    "])\n",
    "cat_pipeline = Pipeline([\n",
    "    ('imputer_cat', SimpleImputer(strategy='most_frequent')),\n",
    "    ('one_hot', OneHotEncoder())\n",
    "])\n",
    "\n",
    "print(num_pipeline.fit_transform(X_train_num))"
   ]
  },
  {
   "cell_type": "code",
   "execution_count": 67,
   "id": "628dbd0f",
   "metadata": {},
   "outputs": [],
   "source": [
    "num_attribs = list(X_train_num)\n",
    "cat_attribs = list(X_train_cat)\n",
    "\n",
    "full_pipeline = ColumnTransformer([('num', num_pipeline, num_attribs),\n",
    "                                   ('cat', cat_pipeline, cat_attribs)\n",
    "                                  ])"
   ]
  },
  {
   "cell_type": "code",
   "execution_count": 92,
   "id": "d95ffabc",
   "metadata": {
    "collapsed": true
   },
   "outputs": [
    {
     "name": "stdout",
     "output_type": "stream",
     "text": [
      "(891, 24)\n",
      "\n",
      "  (0, 0)\t-0.3461881014312153\n",
      "  (0, 1)\t-0.5103319284071769\n",
      "  (0, 4)\t1.0\n",
      "  (0, 6)\t1.0\n",
      "  (0, 7)\t1.0\n",
      "  (0, 14)\t1.0\n",
      "  (0, 22)\t1.0\n",
      "  (1, 0)\t0.10862739908886059\n",
      "  (1, 1)\t-0.3866707201133388\n",
      "  (1, 3)\t1.0\n",
      "  (1, 6)\t1.0\n",
      "  (1, 7)\t1.0\n",
      "  (1, 14)\t1.0\n",
      "  (1, 23)\t1.0\n",
      "  (2, 0)\t0.10862739908886059\n",
      "  (2, 1)\t1.093228788100527\n",
      "  (2, 2)\t1.0\n",
      "  (2, 5)\t1.0\n",
      "  (2, 7)\t1.0\n",
      "  (2, 14)\t1.0\n",
      "  (2, 23)\t1.0\n",
      "  (3, 0)\t-1.483226852731405\n",
      "  (3, 1)\t0.2958951755118318\n",
      "  (3, 4)\t1.0\n",
      "  (3, 6)\t1.0\n",
      "  :\t:\n",
      "  (887, 6)\t1.0\n",
      "  (887, 8)\t1.0\n",
      "  (887, 16)\t1.0\n",
      "  (887, 23)\t1.0\n",
      "  (888, 0)\t-0.04297776775116471\n",
      "  (888, 1)\t-0.4894421904510968\n",
      "  (888, 4)\t1.0\n",
      "  (888, 5)\t1.0\n",
      "  (888, 7)\t1.0\n",
      "  (888, 14)\t1.0\n",
      "  (888, 23)\t1.0\n",
      "  (889, 0)\t0.7908506498689745\n",
      "  (889, 1)\t-0.6484216535389205\n",
      "  (889, 2)\t1.0\n",
      "  (889, 6)\t1.0\n",
      "  (889, 7)\t1.0\n",
      "  (889, 14)\t1.0\n",
      "  (889, 23)\t1.0\n",
      "  (890, 0)\t1.1698635669690376\n",
      "  (890, 1)\t1.163700193253568\n",
      "  (890, 2)\t1.0\n",
      "  (890, 6)\t1.0\n",
      "  (890, 9)\t1.0\n",
      "  (890, 14)\t1.0\n",
      "  (890, 22)\t1.0\n"
     ]
    }
   ],
   "source": [
    "full_pipeline.fit(X_train)\n",
    "X_train_prep = full_pipeline.transform(X_train)\n",
    "print('{}\\n\\n{}'.format(X_train_prep.shape, X_train_prep))\n"
   ]
  },
  {
   "cell_type": "markdown",
   "id": "3e61c9e0",
   "metadata": {},
   "source": [
    "###  Model Selection"
   ]
  },
  {
   "cell_type": "markdown",
   "id": "3498d9d5",
   "metadata": {},
   "source": [
    "###### Logistic Regression"
   ]
  },
  {
   "cell_type": "code",
   "execution_count": 71,
   "id": "5d6f505b",
   "metadata": {},
   "outputs": [
    {
     "data": {
      "text/plain": [
       "LogisticRegression(max_iter=1000)"
      ]
     },
     "execution_count": 71,
     "metadata": {},
     "output_type": "execute_result"
    }
   ],
   "source": [
    "log_reg = linear_model.LogisticRegression(solver='lbfgs', max_iter=1000)\n",
    "log_reg.fit(full_pipeline.transform(X_train), y_train)"
   ]
  },
  {
   "cell_type": "code",
   "execution_count": 97,
   "id": "e1f5437e",
   "metadata": {},
   "outputs": [
    {
     "name": "stdout",
     "output_type": "stream",
     "text": [
      "accuracy score: 0.8125701459034792\n"
     ]
    }
   ],
   "source": [
    "print('accuracy score: {}'.format(log_reg.score(full_pipeline.transform(X_train), y_train)))"
   ]
  },
  {
   "cell_type": "code",
   "execution_count": 160,
   "id": "e7cd7e20",
   "metadata": {},
   "outputs": [
    {
     "name": "stdout",
     "output_type": "stream",
     "text": [
      "validation accuracy scores:[0.78787879 0.79461279 0.82491582]\n",
      "validation accuracy: 0.8024691358024691\n"
     ]
    }
   ],
   "source": [
    "scores = cross_val_score(log_reg, X_train_prep, y_train, cv=3, scoring='accuracy')\n",
    "print('validation accuracy scores:{}\\nvalidation accuracy: {}'.format(scores, scores.mean()))"
   ]
  },
  {
   "cell_type": "markdown",
   "id": "2c9eecd6",
   "metadata": {},
   "source": [
    "###### Random Forest and Decision Tree"
   ]
  },
  {
   "cell_type": "code",
   "execution_count": 96,
   "id": "c903fa9c",
   "metadata": {},
   "outputs": [
    {
     "name": "stdout",
     "output_type": "stream",
     "text": [
      "accuracy score: 0.9809203142536476\n"
     ]
    }
   ],
   "source": [
    "tree_clf = DecisionTreeClassifier()\n",
    "tree_clf.fit(X_train_prep, y_train)\n",
    "print('accuracy score: {}'.format(tree_clf.score(X_train_prep, y_train)))"
   ]
  },
  {
   "cell_type": "code",
   "execution_count": 157,
   "id": "be93adc0",
   "metadata": {},
   "outputs": [
    {
     "name": "stdout",
     "output_type": "stream",
     "text": [
      "validation accuracy scores:[0.78451178 0.77777778 0.75084175]\n",
      "validation accuracy: 0.7710437710437711\n"
     ]
    }
   ],
   "source": [
    "scores = cross_val_score(tree_clf, X_train_prep, y_train, cv=3, scoring='accuracy')\n",
    "print('validation accuracy scores:{}\\nvalidation accuracy: {}'.format(scores, scores.mean()))"
   ]
  },
  {
   "cell_type": "code",
   "execution_count": 99,
   "id": "1dcbb688",
   "metadata": {},
   "outputs": [
    {
     "name": "stdout",
     "output_type": "stream",
     "text": [
      "accuracy score: 0.9809203142536476\n"
     ]
    }
   ],
   "source": [
    "forest_reg = RandomForestClassifier()\n",
    "forest_reg.fit(X_train_prep, y_train)\n",
    "print('accuracy score: {}'.format(forest_reg.score(X_train_prep, y_train)))"
   ]
  },
  {
   "cell_type": "code",
   "execution_count": 158,
   "id": "f1c1f155",
   "metadata": {},
   "outputs": [
    {
     "name": "stdout",
     "output_type": "stream",
     "text": [
      "validation accuracy scores:[0.8047138  0.79461279 0.79124579]\n",
      "validation accuracy: 0.7968574635241302\n"
     ]
    }
   ],
   "source": [
    "scores = cross_val_score(forest_reg, X_train_prep, y_train, cv=3, scoring='accuracy')\n",
    "print('validation accuracy scores:{}\\nvalidation accuracy: {}'.format(scores, scores.mean()))"
   ]
  },
  {
   "cell_type": "markdown",
   "id": "4cad9d62",
   "metadata": {},
   "source": [
    "### Fine tuning the model"
   ]
  },
  {
   "cell_type": "code",
   "execution_count": 100,
   "id": "49425162",
   "metadata": {},
   "outputs": [],
   "source": [
    "# hyperparameters\n",
    "params_logreg = {'solver':['lbfgs', 'liblinear', 'newton-cg']}\n",
    "params_tree = [\n",
    "    {'n_estimators': [3, 10, 30], 'max_features':[2, 4, 6, 8]}, \n",
    "    {'bootstrap':[False], 'n_estimators':[3, 10], 'max_features': [2, 3, 4]}\n",
    "]\n"
   ]
  },
  {
   "cell_type": "markdown",
   "id": "1136f84b",
   "metadata": {},
   "source": [
    "##### Logistic regression "
   ]
  },
  {
   "cell_type": "code",
   "execution_count": 102,
   "id": "4fd77ac9",
   "metadata": {},
   "outputs": [
    {
     "data": {
      "text/plain": [
       "GridSearchCV(cv=5, estimator=LogisticRegression(max_iter=1000),\n",
       "             param_grid={'solver': ['lbfgs', 'liblinear', 'newton-cg']},\n",
       "             return_train_score=True, scoring='neg_mean_squared_error')"
      ]
     },
     "execution_count": 102,
     "metadata": {},
     "output_type": "execute_result"
    }
   ],
   "source": [
    "log_reg_CV= GridSearchCV(log_reg, params_logreg, cv=5,\n",
    "                         scoring='neg_mean_squared_error',\n",
    "                         return_train_score=True\n",
    "                        )\n",
    "log_reg_CV.fit(X_train_prep, y_train)"
   ]
  },
  {
   "cell_type": "markdown",
   "id": "342de4c4",
   "metadata": {},
   "source": [
    "###### results"
   ]
  },
  {
   "cell_type": "code",
   "execution_count": 104,
   "id": "cbb8bda2",
   "metadata": {},
   "outputs": [
    {
     "data": {
      "text/plain": [
       "-0.19640323896804973"
      ]
     },
     "execution_count": 104,
     "metadata": {},
     "output_type": "execute_result"
    }
   ],
   "source": [
    "log_reg_CV.best_score_"
   ]
  },
  {
   "cell_type": "code",
   "execution_count": 117,
   "id": "d31b766f",
   "metadata": {},
   "outputs": [
    {
     "name": "stdout",
     "output_type": "stream",
     "text": [
      "0.4431740504226863 {'solver': 'lbfgs'}\n",
      "0.44569513449152875 {'solver': 'liblinear'}\n",
      "0.4431740504226863 {'solver': 'newton-cg'}\n"
     ]
    }
   ],
   "source": [
    "for mean_score, params in zip(log_reg_CV.cv_results_['mean_test_score'], log_reg_CV.cv_results_['params']):\n",
    "    print(np.sqrt(-mean_score), params)"
   ]
  },
  {
   "cell_type": "code",
   "execution_count": 108,
   "id": "a54f23a6",
   "metadata": {},
   "outputs": [],
   "source": [
    "log_reg_CV_results = pd.DataFrame(log_reg_CV.cv_results_)"
   ]
  },
  {
   "cell_type": "code",
   "execution_count": 109,
   "id": "7e601fb0",
   "metadata": {},
   "outputs": [
    {
     "data": {
      "text/html": [
       "<div>\n",
       "<style scoped>\n",
       "    .dataframe tbody tr th:only-of-type {\n",
       "        vertical-align: middle;\n",
       "    }\n",
       "\n",
       "    .dataframe tbody tr th {\n",
       "        vertical-align: top;\n",
       "    }\n",
       "\n",
       "    .dataframe thead th {\n",
       "        text-align: right;\n",
       "    }\n",
       "</style>\n",
       "<table border=\"1\" class=\"dataframe\">\n",
       "  <thead>\n",
       "    <tr style=\"text-align: right;\">\n",
       "      <th></th>\n",
       "      <th>mean_fit_time</th>\n",
       "      <th>std_fit_time</th>\n",
       "      <th>mean_score_time</th>\n",
       "      <th>std_score_time</th>\n",
       "      <th>param_solver</th>\n",
       "      <th>params</th>\n",
       "      <th>split0_test_score</th>\n",
       "      <th>split1_test_score</th>\n",
       "      <th>split2_test_score</th>\n",
       "      <th>split3_test_score</th>\n",
       "      <th>...</th>\n",
       "      <th>mean_test_score</th>\n",
       "      <th>std_test_score</th>\n",
       "      <th>rank_test_score</th>\n",
       "      <th>split0_train_score</th>\n",
       "      <th>split1_train_score</th>\n",
       "      <th>split2_train_score</th>\n",
       "      <th>split3_train_score</th>\n",
       "      <th>split4_train_score</th>\n",
       "      <th>mean_train_score</th>\n",
       "      <th>std_train_score</th>\n",
       "    </tr>\n",
       "  </thead>\n",
       "  <tbody>\n",
       "    <tr>\n",
       "      <th>0</th>\n",
       "      <td>0.020026</td>\n",
       "      <td>0.003571</td>\n",
       "      <td>0.000354</td>\n",
       "      <td>0.000022</td>\n",
       "      <td>lbfgs</td>\n",
       "      <td>{'solver': 'lbfgs'}</td>\n",
       "      <td>-0.201117</td>\n",
       "      <td>-0.207865</td>\n",
       "      <td>-0.219101</td>\n",
       "      <td>-0.202247</td>\n",
       "      <td>...</td>\n",
       "      <td>-0.196403</td>\n",
       "      <td>0.023249</td>\n",
       "      <td>1</td>\n",
       "      <td>-0.18118</td>\n",
       "      <td>-0.182328</td>\n",
       "      <td>-0.189341</td>\n",
       "      <td>-0.185133</td>\n",
       "      <td>-0.213184</td>\n",
       "      <td>-0.190233</td>\n",
       "      <td>0.011815</td>\n",
       "    </tr>\n",
       "    <tr>\n",
       "      <th>1</th>\n",
       "      <td>0.001609</td>\n",
       "      <td>0.000175</td>\n",
       "      <td>0.000269</td>\n",
       "      <td>0.000022</td>\n",
       "      <td>liblinear</td>\n",
       "      <td>{'solver': 'liblinear'}</td>\n",
       "      <td>-0.206704</td>\n",
       "      <td>-0.207865</td>\n",
       "      <td>-0.219101</td>\n",
       "      <td>-0.207865</td>\n",
       "      <td>...</td>\n",
       "      <td>-0.198644</td>\n",
       "      <td>0.023911</td>\n",
       "      <td>3</td>\n",
       "      <td>-0.18118</td>\n",
       "      <td>-0.182328</td>\n",
       "      <td>-0.190743</td>\n",
       "      <td>-0.185133</td>\n",
       "      <td>-0.213184</td>\n",
       "      <td>-0.190514</td>\n",
       "      <td>0.011807</td>\n",
       "    </tr>\n",
       "    <tr>\n",
       "      <th>2</th>\n",
       "      <td>0.021987</td>\n",
       "      <td>0.001633</td>\n",
       "      <td>0.000355</td>\n",
       "      <td>0.000057</td>\n",
       "      <td>newton-cg</td>\n",
       "      <td>{'solver': 'newton-cg'}</td>\n",
       "      <td>-0.201117</td>\n",
       "      <td>-0.207865</td>\n",
       "      <td>-0.219101</td>\n",
       "      <td>-0.202247</td>\n",
       "      <td>...</td>\n",
       "      <td>-0.196403</td>\n",
       "      <td>0.023249</td>\n",
       "      <td>1</td>\n",
       "      <td>-0.18118</td>\n",
       "      <td>-0.182328</td>\n",
       "      <td>-0.189341</td>\n",
       "      <td>-0.185133</td>\n",
       "      <td>-0.213184</td>\n",
       "      <td>-0.190233</td>\n",
       "      <td>0.011815</td>\n",
       "    </tr>\n",
       "  </tbody>\n",
       "</table>\n",
       "<p>3 rows × 21 columns</p>\n",
       "</div>"
      ],
      "text/plain": [
       "   mean_fit_time  std_fit_time  mean_score_time  std_score_time param_solver  \\\n",
       "0       0.020026      0.003571         0.000354        0.000022        lbfgs   \n",
       "1       0.001609      0.000175         0.000269        0.000022    liblinear   \n",
       "2       0.021987      0.001633         0.000355        0.000057    newton-cg   \n",
       "\n",
       "                    params  split0_test_score  split1_test_score  \\\n",
       "0      {'solver': 'lbfgs'}          -0.201117          -0.207865   \n",
       "1  {'solver': 'liblinear'}          -0.206704          -0.207865   \n",
       "2  {'solver': 'newton-cg'}          -0.201117          -0.207865   \n",
       "\n",
       "   split2_test_score  split3_test_score  ...  mean_test_score  std_test_score  \\\n",
       "0          -0.219101          -0.202247  ...        -0.196403        0.023249   \n",
       "1          -0.219101          -0.207865  ...        -0.198644        0.023911   \n",
       "2          -0.219101          -0.202247  ...        -0.196403        0.023249   \n",
       "\n",
       "   rank_test_score  split0_train_score  split1_train_score  \\\n",
       "0                1            -0.18118           -0.182328   \n",
       "1                3            -0.18118           -0.182328   \n",
       "2                1            -0.18118           -0.182328   \n",
       "\n",
       "   split2_train_score  split3_train_score  split4_train_score  \\\n",
       "0           -0.189341           -0.185133           -0.213184   \n",
       "1           -0.190743           -0.185133           -0.213184   \n",
       "2           -0.189341           -0.185133           -0.213184   \n",
       "\n",
       "   mean_train_score  std_train_score  \n",
       "0         -0.190233         0.011815  \n",
       "1         -0.190514         0.011807  \n",
       "2         -0.190233         0.011815  \n",
       "\n",
       "[3 rows x 21 columns]"
      ]
     },
     "execution_count": 109,
     "metadata": {},
     "output_type": "execute_result"
    }
   ],
   "source": [
    "log_reg_CV_results"
   ]
  },
  {
   "cell_type": "code",
   "execution_count": 123,
   "id": "aa0ffefd",
   "metadata": {},
   "outputs": [],
   "source": [
    "log_reg_model = log_reg_CV.best_estimator_"
   ]
  },
  {
   "cell_type": "markdown",
   "id": "db0078c2",
   "metadata": {},
   "source": [
    "#####  Trees classifier"
   ]
  },
  {
   "cell_type": "code",
   "execution_count": 112,
   "id": "38af6dda",
   "metadata": {},
   "outputs": [
    {
     "data": {
      "text/plain": [
       "GridSearchCV(cv=5, estimator=RandomForestClassifier(),\n",
       "             param_grid=[{'max_features': [2, 4, 6, 8],\n",
       "                          'n_estimators': [3, 10, 30]},\n",
       "                         {'bootstrap': [False], 'max_features': [2, 3, 4],\n",
       "                          'n_estimators': [3, 10]}],\n",
       "             return_train_score=True, scoring='neg_mean_squared_error')"
      ]
     },
     "execution_count": 112,
     "metadata": {},
     "output_type": "execute_result"
    }
   ],
   "source": [
    "forest_reg_CV = GridSearchCV(forest_reg, params_tree, cv=5,\n",
    "                             scoring='neg_mean_squared_error',\n",
    "                             return_train_score=True)\n",
    "\n",
    "forest_reg_CV.fit(X_train_prep, y_train)"
   ]
  },
  {
   "cell_type": "markdown",
   "id": "6657778b",
   "metadata": {},
   "source": [
    "###### results"
   ]
  },
  {
   "cell_type": "code",
   "execution_count": 116,
   "id": "c4e9fe22",
   "metadata": {},
   "outputs": [
    {
     "name": "stdout",
     "output_type": "stream",
     "text": [
      "0.47731148185034306 {'max_features': 2, 'n_estimators': 3}\n",
      "0.4642177134639431 {'max_features': 2, 'n_estimators': 10}\n",
      "0.46423799575571467 {'max_features': 2, 'n_estimators': 30}\n",
      "0.466598211693539 {'max_features': 4, 'n_estimators': 3}\n",
      "0.45322272032918304 {'max_features': 4, 'n_estimators': 10}\n",
      "0.45072285172999754 {'max_features': 4, 'n_estimators': 30}\n",
      "0.461790964054577 {'max_features': 6, 'n_estimators': 3}\n",
      "0.4495026160607506 {'max_features': 6, 'n_estimators': 10}\n",
      "0.4495095982460467 {'max_features': 6, 'n_estimators': 30}\n",
      "0.47383355188077836 {'max_features': 8, 'n_estimators': 3}\n",
      "0.45690566808680266 {'max_features': 8, 'n_estimators': 10}\n",
      "0.45320194506753114 {'max_features': 8, 'n_estimators': 30}\n",
      "0.48895913630071536 {'bootstrap': False, 'max_features': 2, 'n_estimators': 3}\n",
      "0.47850671617165386 {'bootstrap': False, 'max_features': 2, 'n_estimators': 10}\n",
      "0.4701964245636737 {'bootstrap': False, 'max_features': 3, 'n_estimators': 3}\n",
      "0.46423799575571467 {'bootstrap': False, 'max_features': 3, 'n_estimators': 10}\n",
      "0.4784935979526289 {'bootstrap': False, 'max_features': 4, 'n_estimators': 3}\n",
      "0.47734435793825963 {'bootstrap': False, 'max_features': 4, 'n_estimators': 10}\n"
     ]
    }
   ],
   "source": [
    "for mean_score, params in zip(forest_reg_CV.cv_results_['mean_test_score'], forest_reg_CV.cv_results_['params']):\n",
    "    print(np.sqrt(-mean_score), params)"
   ]
  },
  {
   "cell_type": "code",
   "execution_count": 114,
   "id": "67a39688",
   "metadata": {},
   "outputs": [
    {
     "data": {
      "text/plain": [
       "{'max_features': 6, 'n_estimators': 10}"
      ]
     },
     "execution_count": 114,
     "metadata": {},
     "output_type": "execute_result"
    }
   ],
   "source": [
    "forest_reg_CV.best_params_"
   ]
  },
  {
   "cell_type": "code",
   "execution_count": 115,
   "id": "40c24d13",
   "metadata": {},
   "outputs": [
    {
     "data": {
      "text/plain": [
       "-0.20205260184545856"
      ]
     },
     "execution_count": 115,
     "metadata": {},
     "output_type": "execute_result"
    }
   ],
   "source": [
    "forest_reg_CV.best_score_"
   ]
  },
  {
   "cell_type": "code",
   "execution_count": 122,
   "id": "83d85437",
   "metadata": {},
   "outputs": [],
   "source": [
    "forest_reg_model = forest_reg_CV.best_estimator_"
   ]
  },
  {
   "cell_type": "markdown",
   "id": "8eb8b1cf",
   "metadata": {},
   "source": [
    "### Performance on Test set"
   ]
  },
  {
   "cell_type": "code",
   "execution_count": 141,
   "id": "44c491b8",
   "metadata": {
    "scrolled": true
   },
   "outputs": [],
   "source": [
    "# replaced the category 9 class with the closest category\n",
    "X_test['Parch'].replace(9, 6, inplace=True)"
   ]
  },
  {
   "cell_type": "code",
   "execution_count": 142,
   "id": "9e04453d",
   "metadata": {},
   "outputs": [],
   "source": [
    "X_test_prep = full_pipeline.transform(X_test)"
   ]
  },
  {
   "cell_type": "code",
   "execution_count": 146,
   "id": "9c6dd2e2",
   "metadata": {},
   "outputs": [],
   "source": [
    "logreg_pred = log_reg_model.predict(X_test_prep)\n",
    "forestreg_pred = forest_reg_model.predict(X_test_prep)"
   ]
  },
  {
   "cell_type": "code",
   "execution_count": 150,
   "id": "70fbbb96",
   "metadata": {},
   "outputs": [],
   "source": [
    "sub = pd.read_csv('./gender_submission.csv')"
   ]
  },
  {
   "cell_type": "code",
   "execution_count": 147,
   "id": "c2854b1c",
   "metadata": {},
   "outputs": [
    {
     "data": {
      "text/plain": [
       "array([0, 0, 0, 0, 1, 0, 1, 0, 1, 0, 0, 0, 1, 0, 1, 1, 0, 0, 1, 1, 0, 0,\n",
       "       1, 1, 1, 0, 1, 0, 0, 0, 0, 0, 1, 1, 1, 0, 1, 1, 0, 0, 0, 0, 0, 1,\n",
       "       1, 0, 0, 0, 1, 0, 0, 0, 1, 1, 0, 0, 0, 0, 0, 1, 0, 0, 0, 1, 1, 1,\n",
       "       1, 0, 0, 1, 1, 0, 1, 1, 1, 1, 0, 1, 0, 1, 0, 0, 0, 0, 0, 0, 1, 1,\n",
       "       1, 1, 1, 0, 1, 0, 1, 0, 1, 0, 1, 0, 1, 0, 0, 0, 1, 0, 0, 0, 0, 0,\n",
       "       0, 1, 1, 1, 1, 0, 0, 1, 0, 1, 1, 0, 1, 0, 0, 1, 0, 1, 0, 0, 0, 0,\n",
       "       0, 0, 0, 0, 0, 0, 1, 0, 0, 1, 0, 0, 0, 0, 0, 0, 0, 0, 1, 0, 0, 0,\n",
       "       0, 0, 1, 1, 0, 1, 1, 0, 1, 0, 0, 1, 0, 0, 1, 1, 0, 0, 0, 0, 0, 1,\n",
       "       1, 0, 1, 1, 0, 1, 1, 0, 1, 0, 1, 0, 0, 0, 0, 0, 0, 0, 0, 0, 1, 1,\n",
       "       0, 1, 1, 0, 0, 1, 0, 1, 1, 0, 1, 0, 0, 0, 0, 1, 0, 0, 1, 0, 1, 0,\n",
       "       1, 0, 1, 0, 1, 1, 0, 1, 0, 0, 0, 1, 0, 0, 0, 0, 0, 0, 1, 1, 1, 1,\n",
       "       1, 0, 0, 0, 1, 0, 1, 1, 1, 0, 1, 0, 0, 0, 0, 0, 1, 0, 0, 0, 1, 1,\n",
       "       0, 0, 0, 0, 1, 0, 0, 0, 1, 1, 0, 1, 0, 0, 0, 0, 1, 0, 1, 1, 1, 0,\n",
       "       0, 1, 0, 0, 0, 1, 0, 0, 0, 0, 1, 0, 0, 0, 0, 0, 0, 0, 1, 1, 0, 0,\n",
       "       0, 0, 0, 0, 0, 1, 1, 1, 0, 0, 0, 0, 0, 0, 0, 0, 1, 0, 1, 0, 0, 0,\n",
       "       1, 0, 0, 1, 0, 0, 0, 0, 0, 0, 0, 0, 0, 1, 0, 1, 0, 1, 0, 1, 1, 0,\n",
       "       0, 0, 1, 0, 1, 0, 0, 1, 0, 1, 1, 0, 1, 0, 0, 1, 1, 0, 0, 1, 0, 0,\n",
       "       1, 1, 1, 0, 0, 0, 0, 0, 1, 1, 0, 1, 0, 0, 0, 0, 0, 1, 0, 0, 0, 1,\n",
       "       0, 1, 0, 0, 1, 0, 1, 1, 0, 0, 0, 1, 1, 1, 1, 1, 1, 0, 1, 0, 0, 0])"
      ]
     },
     "execution_count": 147,
     "metadata": {},
     "output_type": "execute_result"
    }
   ],
   "source": [
    "logreg_pred"
   ]
  },
  {
   "cell_type": "code",
   "execution_count": 149,
   "id": "0f18ba49",
   "metadata": {},
   "outputs": [
    {
     "data": {
      "text/html": [
       "<div>\n",
       "<style scoped>\n",
       "    .dataframe tbody tr th:only-of-type {\n",
       "        vertical-align: middle;\n",
       "    }\n",
       "\n",
       "    .dataframe tbody tr th {\n",
       "        vertical-align: top;\n",
       "    }\n",
       "\n",
       "    .dataframe thead th {\n",
       "        text-align: right;\n",
       "    }\n",
       "</style>\n",
       "<table border=\"1\" class=\"dataframe\">\n",
       "  <thead>\n",
       "    <tr style=\"text-align: right;\">\n",
       "      <th></th>\n",
       "      <th>mean_fit_time</th>\n",
       "      <th>std_fit_time</th>\n",
       "      <th>mean_score_time</th>\n",
       "      <th>std_score_time</th>\n",
       "      <th>param_solver</th>\n",
       "      <th>params</th>\n",
       "      <th>split0_test_score</th>\n",
       "      <th>split1_test_score</th>\n",
       "      <th>split2_test_score</th>\n",
       "      <th>split3_test_score</th>\n",
       "      <th>...</th>\n",
       "      <th>mean_test_score</th>\n",
       "      <th>std_test_score</th>\n",
       "      <th>rank_test_score</th>\n",
       "      <th>split0_train_score</th>\n",
       "      <th>split1_train_score</th>\n",
       "      <th>split2_train_score</th>\n",
       "      <th>split3_train_score</th>\n",
       "      <th>split4_train_score</th>\n",
       "      <th>mean_train_score</th>\n",
       "      <th>std_train_score</th>\n",
       "    </tr>\n",
       "  </thead>\n",
       "  <tbody>\n",
       "    <tr>\n",
       "      <th>0</th>\n",
       "      <td>0.020026</td>\n",
       "      <td>0.003571</td>\n",
       "      <td>0.000354</td>\n",
       "      <td>0.000022</td>\n",
       "      <td>lbfgs</td>\n",
       "      <td>{'solver': 'lbfgs'}</td>\n",
       "      <td>-0.201117</td>\n",
       "      <td>-0.207865</td>\n",
       "      <td>-0.219101</td>\n",
       "      <td>-0.202247</td>\n",
       "      <td>...</td>\n",
       "      <td>-0.196403</td>\n",
       "      <td>0.023249</td>\n",
       "      <td>1</td>\n",
       "      <td>-0.18118</td>\n",
       "      <td>-0.182328</td>\n",
       "      <td>-0.189341</td>\n",
       "      <td>-0.185133</td>\n",
       "      <td>-0.213184</td>\n",
       "      <td>-0.190233</td>\n",
       "      <td>0.011815</td>\n",
       "    </tr>\n",
       "    <tr>\n",
       "      <th>1</th>\n",
       "      <td>0.001609</td>\n",
       "      <td>0.000175</td>\n",
       "      <td>0.000269</td>\n",
       "      <td>0.000022</td>\n",
       "      <td>liblinear</td>\n",
       "      <td>{'solver': 'liblinear'}</td>\n",
       "      <td>-0.206704</td>\n",
       "      <td>-0.207865</td>\n",
       "      <td>-0.219101</td>\n",
       "      <td>-0.207865</td>\n",
       "      <td>...</td>\n",
       "      <td>-0.198644</td>\n",
       "      <td>0.023911</td>\n",
       "      <td>3</td>\n",
       "      <td>-0.18118</td>\n",
       "      <td>-0.182328</td>\n",
       "      <td>-0.190743</td>\n",
       "      <td>-0.185133</td>\n",
       "      <td>-0.213184</td>\n",
       "      <td>-0.190514</td>\n",
       "      <td>0.011807</td>\n",
       "    </tr>\n",
       "    <tr>\n",
       "      <th>2</th>\n",
       "      <td>0.021987</td>\n",
       "      <td>0.001633</td>\n",
       "      <td>0.000355</td>\n",
       "      <td>0.000057</td>\n",
       "      <td>newton-cg</td>\n",
       "      <td>{'solver': 'newton-cg'}</td>\n",
       "      <td>-0.201117</td>\n",
       "      <td>-0.207865</td>\n",
       "      <td>-0.219101</td>\n",
       "      <td>-0.202247</td>\n",
       "      <td>...</td>\n",
       "      <td>-0.196403</td>\n",
       "      <td>0.023249</td>\n",
       "      <td>1</td>\n",
       "      <td>-0.18118</td>\n",
       "      <td>-0.182328</td>\n",
       "      <td>-0.189341</td>\n",
       "      <td>-0.185133</td>\n",
       "      <td>-0.213184</td>\n",
       "      <td>-0.190233</td>\n",
       "      <td>0.011815</td>\n",
       "    </tr>\n",
       "  </tbody>\n",
       "</table>\n",
       "<p>3 rows × 21 columns</p>\n",
       "</div>"
      ],
      "text/plain": [
       "   mean_fit_time  std_fit_time  mean_score_time  std_score_time param_solver  \\\n",
       "0       0.020026      0.003571         0.000354        0.000022        lbfgs   \n",
       "1       0.001609      0.000175         0.000269        0.000022    liblinear   \n",
       "2       0.021987      0.001633         0.000355        0.000057    newton-cg   \n",
       "\n",
       "                    params  split0_test_score  split1_test_score  \\\n",
       "0      {'solver': 'lbfgs'}          -0.201117          -0.207865   \n",
       "1  {'solver': 'liblinear'}          -0.206704          -0.207865   \n",
       "2  {'solver': 'newton-cg'}          -0.201117          -0.207865   \n",
       "\n",
       "   split2_test_score  split3_test_score  ...  mean_test_score  std_test_score  \\\n",
       "0          -0.219101          -0.202247  ...        -0.196403        0.023249   \n",
       "1          -0.219101          -0.207865  ...        -0.198644        0.023911   \n",
       "2          -0.219101          -0.202247  ...        -0.196403        0.023249   \n",
       "\n",
       "   rank_test_score  split0_train_score  split1_train_score  \\\n",
       "0                1            -0.18118           -0.182328   \n",
       "1                3            -0.18118           -0.182328   \n",
       "2                1            -0.18118           -0.182328   \n",
       "\n",
       "   split2_train_score  split3_train_score  split4_train_score  \\\n",
       "0           -0.189341           -0.185133           -0.213184   \n",
       "1           -0.190743           -0.185133           -0.213184   \n",
       "2           -0.189341           -0.185133           -0.213184   \n",
       "\n",
       "   mean_train_score  std_train_score  \n",
       "0         -0.190233         0.011815  \n",
       "1         -0.190514         0.011807  \n",
       "2         -0.190233         0.011815  \n",
       "\n",
       "[3 rows x 21 columns]"
      ]
     },
     "execution_count": 149,
     "metadata": {},
     "output_type": "execute_result"
    }
   ],
   "source": [
    "logreg_results"
   ]
  },
  {
   "cell_type": "code",
   "execution_count": 179,
   "id": "01c045a4",
   "metadata": {},
   "outputs": [],
   "source": [
    "sub = X_test[['PassengerId']]"
   ]
  },
  {
   "cell_type": "code",
   "execution_count": 184,
   "id": "0cd52f93",
   "metadata": {
    "scrolled": true
   },
   "outputs": [
    {
     "name": "stderr",
     "output_type": "stream",
     "text": [
      "/var/folders/c6/hmrnwnyd77197y43v6pf4gjc0000gn/T/ipykernel_46573/830903567.py:1: SettingWithCopyWarning: \n",
      "A value is trying to be set on a copy of a slice from a DataFrame.\n",
      "Try using .loc[row_indexer,col_indexer] = value instead\n",
      "\n",
      "See the caveats in the documentation: https://pandas.pydata.org/pandas-docs/stable/user_guide/indexing.html#returning-a-view-versus-a-copy\n",
      "  sub['Survived'] = logreg_pred\n"
     ]
    }
   ],
   "source": [
    "sub['Survived'] = logreg_pred"
   ]
  },
  {
   "cell_type": "code",
   "execution_count": 185,
   "id": "4e69854e",
   "metadata": {},
   "outputs": [
    {
     "data": {
      "text/html": [
       "<div>\n",
       "<style scoped>\n",
       "    .dataframe tbody tr th:only-of-type {\n",
       "        vertical-align: middle;\n",
       "    }\n",
       "\n",
       "    .dataframe tbody tr th {\n",
       "        vertical-align: top;\n",
       "    }\n",
       "\n",
       "    .dataframe thead th {\n",
       "        text-align: right;\n",
       "    }\n",
       "</style>\n",
       "<table border=\"1\" class=\"dataframe\">\n",
       "  <thead>\n",
       "    <tr style=\"text-align: right;\">\n",
       "      <th></th>\n",
       "      <th>PassengerId</th>\n",
       "      <th>Survived</th>\n",
       "    </tr>\n",
       "  </thead>\n",
       "  <tbody>\n",
       "    <tr>\n",
       "      <th>0</th>\n",
       "      <td>892</td>\n",
       "      <td>0</td>\n",
       "    </tr>\n",
       "    <tr>\n",
       "      <th>1</th>\n",
       "      <td>893</td>\n",
       "      <td>0</td>\n",
       "    </tr>\n",
       "    <tr>\n",
       "      <th>2</th>\n",
       "      <td>894</td>\n",
       "      <td>0</td>\n",
       "    </tr>\n",
       "    <tr>\n",
       "      <th>3</th>\n",
       "      <td>895</td>\n",
       "      <td>0</td>\n",
       "    </tr>\n",
       "    <tr>\n",
       "      <th>4</th>\n",
       "      <td>896</td>\n",
       "      <td>1</td>\n",
       "    </tr>\n",
       "    <tr>\n",
       "      <th>...</th>\n",
       "      <td>...</td>\n",
       "      <td>...</td>\n",
       "    </tr>\n",
       "    <tr>\n",
       "      <th>413</th>\n",
       "      <td>1305</td>\n",
       "      <td>0</td>\n",
       "    </tr>\n",
       "    <tr>\n",
       "      <th>414</th>\n",
       "      <td>1306</td>\n",
       "      <td>1</td>\n",
       "    </tr>\n",
       "    <tr>\n",
       "      <th>415</th>\n",
       "      <td>1307</td>\n",
       "      <td>0</td>\n",
       "    </tr>\n",
       "    <tr>\n",
       "      <th>416</th>\n",
       "      <td>1308</td>\n",
       "      <td>0</td>\n",
       "    </tr>\n",
       "    <tr>\n",
       "      <th>417</th>\n",
       "      <td>1309</td>\n",
       "      <td>0</td>\n",
       "    </tr>\n",
       "  </tbody>\n",
       "</table>\n",
       "<p>418 rows × 2 columns</p>\n",
       "</div>"
      ],
      "text/plain": [
       "     PassengerId  Survived\n",
       "0            892         0\n",
       "1            893         0\n",
       "2            894         0\n",
       "3            895         0\n",
       "4            896         1\n",
       "..           ...       ...\n",
       "413         1305         0\n",
       "414         1306         1\n",
       "415         1307         0\n",
       "416         1308         0\n",
       "417         1309         0\n",
       "\n",
       "[418 rows x 2 columns]"
      ]
     },
     "execution_count": 185,
     "metadata": {},
     "output_type": "execute_result"
    }
   ],
   "source": [
    "sub"
   ]
  },
  {
   "cell_type": "code",
   "execution_count": 186,
   "id": "4764edc7",
   "metadata": {},
   "outputs": [],
   "source": [
    "sub.to_csv('logistic_reg_results.csv', index=False)"
   ]
  }
 ],
 "metadata": {
  "kernelspec": {
   "display_name": "Python 3 (ipykernel)",
   "language": "python",
   "name": "python3"
  },
  "language_info": {
   "codemirror_mode": {
    "name": "ipython",
    "version": 3
   },
   "file_extension": ".py",
   "mimetype": "text/x-python",
   "name": "python",
   "nbconvert_exporter": "python",
   "pygments_lexer": "ipython3",
   "version": "3.8.8"
  }
 },
 "nbformat": 4,
 "nbformat_minor": 5
}
